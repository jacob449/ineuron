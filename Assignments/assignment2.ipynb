{
 "cells": [
  {
   "attachments": {},
   "cell_type": "markdown",
   "metadata": {},
   "source": [
    "1.What are the two values of the Boolean data type? How do you write them?\n",
    "-The two differnet values are True and False.\n",
    "var1 = True\n",
    "var2 = False"
   ]
  },
  {
   "attachments": {},
   "cell_type": "markdown",
   "metadata": {},
   "source": [
    "2.What are the three different types of Boolean operators?\n",
    "-the three different types of  Boolean operators are AND, OR and NOT."
   ]
  },
  {
   "attachments": {},
   "cell_type": "markdown",
   "metadata": {},
   "source": [
    "3. Make a list of each Boolean operators truth tables (i.e. every possible combination of Boolean\n",
    "values for the operator and what it evaluate ).\n",
    "-\n",
    "|value1|value2|AND|OR|NOT 1|NOT 2|\n",
    "|------|-----|-----|------|------|------|\n",
    "|0|0|0|0|1|1|\n",
    "|0|1|0|1|1|0|\n",
    "|1|0|0|1|0|1|\n",
    "|1|1|1|1|0|0|\n",
    "\n"
   ]
  },
  {
   "attachments": {},
   "cell_type": "markdown",
   "metadata": {},
   "source": [
    "4. What are the values of the following expressions?\n",
    "(5 > 4) and (3 == 5)\n",
    "not (5 > 4)\n",
    "(5 > 4) or (3 == 5)\n",
    "not ((5 > 4) or (3 == 5))\n",
    "(True and True) and (True == False)\n",
    "(not False) or (not True)"
   ]
  },
  {
   "cell_type": "code",
   "execution_count": 7,
   "metadata": {},
   "outputs": [
    {
     "name": "stdout",
     "output_type": "stream",
     "text": [
      "False\n",
      "False\n",
      "True\n",
      "False\n",
      "False\n",
      "True\n"
     ]
    }
   ],
   "source": [
    "#Answers for Q.4\n",
    "\n",
    "##(5 > 4) and (3 == 5)\n",
    "print((5 > 4) and (3 == 5)) \n",
    "###false\n",
    "\n",
    "##not (5 > 4)\n",
    "print(not (5 > 4))\n",
    "###false\n",
    "\n",
    "##(5 > 4) or (3 == 5)\n",
    "print((5 > 4) or (3 == 5))\n",
    "###true\n",
    "\n",
    "##not ((5 > 4) or (3 == 5))\n",
    "print(not ((5 > 4) or (3 == 5)))\n",
    "###false\n",
    "\n",
    "##(True and True) and (True == False)\n",
    "print((True and True) and (True == False))\n",
    "###false\n",
    "\n",
    "##(not False) or (not True)\n",
    "print((not False) or (not True))\n",
    "###true"
   ]
  },
  {
   "attachments": {},
   "cell_type": "markdown",
   "metadata": {},
   "source": [
    "5. What are the six comparison operators?\n",
    "-the six comparison operators are: ==,!=, >, >=, <, <=, in, not\n"
   ]
  },
  {
   "attachments": {},
   "cell_type": "markdown",
   "metadata": {},
   "source": [
    "6. How do you tell the difference between the equal to and assignment operators?Describe a\n",
    "condition and when you would use one.\n",
    "- the assignment operator is used to assign a value to a variable. it is denoted by an equals sign. \"=\".\n",
    "the equals sign is used to assign a value to a variable. it is denoted by double equals \"==\""
   ]
  },
  {
   "cell_type": "code",
   "execution_count": 10,
   "metadata": {},
   "outputs": [
    {
     "name": "stdout",
     "output_type": "stream",
     "text": [
      "False\n"
     ]
    }
   ],
   "source": [
    "#Sample code for Q.6\n",
    "##assignment\n",
    "a=30\n",
    "b=40\n",
    "\n",
    "##to check for comaprisons\n",
    "print(a==b)"
   ]
  },
  {
   "attachments": {},
   "cell_type": "markdown",
   "metadata": {},
   "source": [
    "7. Identify the three blocks in this code:\n",
    "spam = 0\n",
    "if spam == 10:\n",
    "print('eggs')\n",
    "if spam > 5:\n",
    "print('bacon')\n",
    "else:\n",
    "print('ham')\n",
    "print('spam')\n",
    "print('spam')\n",
    "\n",
    "-\n",
    "spam=0\n",
    "if spam == 10:          #block 1\n",
    "    print('eggs')\n",
    "    if spam > 5:        #block 2\n",
    "    print('bacon')\n",
    "    else:               #block 3\n",
    "    print('ham')\n",
    "    print('spam')\n",
    "    print('spam')"
   ]
  }
 ],
 "metadata": {
  "kernelspec": {
   "display_name": "envLearn",
   "language": "python",
   "name": "python3"
  },
  "language_info": {
   "codemirror_mode": {
    "name": "ipython",
    "version": 3
   },
   "file_extension": ".py",
   "mimetype": "text/x-python",
   "name": "python",
   "nbconvert_exporter": "python",
   "pygments_lexer": "ipython3",
   "version": "3.8.16"
  },
  "orig_nbformat": 4
 },
 "nbformat": 4,
 "nbformat_minor": 2
}
